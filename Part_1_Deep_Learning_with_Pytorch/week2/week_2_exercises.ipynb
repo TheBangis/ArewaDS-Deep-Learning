{
  "cells": [
    {
      "cell_type": "markdown",
      "metadata": {
        "id": "view-in-github",
        "colab_type": "text"
      },
      "source": [
        "<a href=\"https://colab.research.google.com/github/TheBangis/ArewaDS-Deep-Learning/blob/main/Part_1_Deep_Learning_with_Pytorch/week2/week_2_exercises.ipynb\" target=\"_parent\"><img src=\"https://colab.research.google.com/assets/colab-badge.svg\" alt=\"Open In Colab\"/></a>"
      ]
    },
    {
      "cell_type": "markdown",
      "metadata": {
        "id": "4oTaujK-FmvD"
      },
      "source": [
        "<a href=\"https://colab.research.google.com/github/arewadataScience/ArewaDS-Deep-Learning/blob/main/Part_1_Deep_Learning_with_Pytorch/week2/week_2_exercises.ipynb\" target=\"_parent\"><img src=\"https://colab.research.google.com/assets/colab-badge.svg\" alt=\"Open In Colab\"/></a>"
      ]
    },
    {
      "cell_type": "markdown",
      "metadata": {
        "id": "LT2CvV7PFmvT"
      },
      "source": [
        "## Arewa DataScience Academy\n",
        "### Deep Learning Cohort 1.0\n",
        "#### Name : Babangida Sani\n",
        "#### Email : bsani480@gmail.com\n",
        "### WEEK 2 Exercises"
      ]
    },
    {
      "cell_type": "markdown",
      "metadata": {
        "id": "etWUcruAFmvW"
      },
      "source": [
        "### Exercises:\n",
        "Please, see week 2 exercises from [**Learn PyTorch for Deep Learning**: 01. Pytorch Workflows](https://www.learnpytorch.io/01_pytorch_workflow/#exercises)"
      ]
    },
    {
      "cell_type": "code",
      "source": [
        "import torch\n",
        "from torch import nn\n",
        "import matplotlib.pyplot as plt\n",
        "\n",
        "print(torch.__version__)"
      ],
      "metadata": {
        "colab": {
          "base_uri": "https://localhost:8080/"
        },
        "id": "rPLV9nprGHEt",
        "outputId": "a1c41928-2e95-4544-fafb-e5371e54519f"
      },
      "execution_count": 2,
      "outputs": [
        {
          "output_type": "stream",
          "name": "stdout",
          "text": [
            "2.1.0+cu121\n"
          ]
        }
      ]
    },
    {
      "cell_type": "markdown",
      "source": [
        "#### 1. Create a straight line dataset using the linear regression formula (weight * X + bias).\n",
        "##### . Set weight=0.3 and bias=0.9 there should be at least 100 datapoints total.\n",
        "##### . Split the data into 80% training, 20% testing.\n",
        "##### . Plot the training and testing data so it becomes visual."
      ],
      "metadata": {
        "id": "aF_HoGy-IQO4"
      }
    },
    {
      "cell_type": "code",
      "source": [
        "# set weight and bias\n",
        "\n",
        "weight = 0.3\n",
        "bias = 0.9\n",
        "\n",
        "# create data\n",
        "\n",
        "start = 0\n",
        "step = 0.02\n",
        "end = 2\n",
        "\n",
        "X = torch.arange(start, end, step).unsqueeze(dim=1)\n",
        "y = weight * X + bias\n",
        "\n",
        "X[:10], y[:10]"
      ],
      "metadata": {
        "colab": {
          "base_uri": "https://localhost:8080/"
        },
        "id": "29IteD26IeKM",
        "outputId": "c27999ba-d196-43ac-8622-974a512fe8a7"
      },
      "execution_count": 23,
      "outputs": [
        {
          "output_type": "execute_result",
          "data": {
            "text/plain": [
              "(tensor([[0.0000],\n",
              "         [0.0200],\n",
              "         [0.0400],\n",
              "         [0.0600],\n",
              "         [0.0800],\n",
              "         [0.1000],\n",
              "         [0.1200],\n",
              "         [0.1400],\n",
              "         [0.1600],\n",
              "         [0.1800]]),\n",
              " tensor([[0.9000],\n",
              "         [0.9060],\n",
              "         [0.9120],\n",
              "         [0.9180],\n",
              "         [0.9240],\n",
              "         [0.9300],\n",
              "         [0.9360],\n",
              "         [0.9420],\n",
              "         [0.9480],\n",
              "         [0.9540]]))"
            ]
          },
          "metadata": {},
          "execution_count": 23
        }
      ]
    },
    {
      "cell_type": "code",
      "source": [
        "# Create train and test split\n",
        "train_split = int(0.8 * len(X)) # 80% of data used for training set, 20% for testing\n",
        "X_train, y_train = X[:train_split], y[:train_split]\n",
        "X_test, y_test = X[train_split:], y[train_split:]\n",
        "\n",
        "len(X_train), len(y_train), len(X_test), len(y_test)"
      ],
      "metadata": {
        "colab": {
          "base_uri": "https://localhost:8080/"
        },
        "id": "zJCpVsr3LS37",
        "outputId": "49c64c03-a6df-48fa-f7b1-842c1c8693b4"
      },
      "execution_count": 24,
      "outputs": [
        {
          "output_type": "execute_result",
          "data": {
            "text/plain": [
              "(80, 80, 20, 20)"
            ]
          },
          "metadata": {},
          "execution_count": 24
        }
      ]
    },
    {
      "cell_type": "code",
      "source": [
        "def plot_predictions(train_data=X_train,\n",
        "                     train_labels=y_train,\n",
        "                     test_data=X_test,\n",
        "                     test_labels=y_test,\n",
        "                     predictions=None):\n",
        "  \"\"\"\n",
        "  Plots training data, test data and compares predictions.\n",
        "  \"\"\"\n",
        "  plt.figure(figsize=(10, 7))\n",
        "\n",
        "  # Plot training data in blue\n",
        "  plt.scatter(train_data, train_labels, c=\"b\", s=4, label=\"Training data\")\n",
        "\n",
        "  # Plot test data in green\n",
        "  plt.scatter(test_data, test_labels, c=\"g\", s=4, label=\"Testing data\")\n",
        "\n",
        "  if predictions is not None:\n",
        "    # Plot the predictions in red (predictions were made on the test data)\n",
        "    plt.scatter(test_data, predictions, c=\"r\", s=4, label=\"Predictions\")\n",
        "\n",
        "  # Show the legend\n",
        "  plt.legend(prop={\"size\": 14});"
      ],
      "metadata": {
        "id": "GQefQmeuMf45"
      },
      "execution_count": 25,
      "outputs": []
    },
    {
      "cell_type": "code",
      "source": [
        "plot_predictions()"
      ],
      "metadata": {
        "colab": {
          "base_uri": "https://localhost:8080/",
          "height": 599
        },
        "id": "TwVa3oPaM6Li",
        "outputId": "c9f5d5e8-6b07-4d5e-855d-d231437100bc"
      },
      "execution_count": 27,
      "outputs": [
        {
          "output_type": "display_data",
          "data": {
            "text/plain": [
              "<Figure size 1000x700 with 1 Axes>"
            ],
            "image/png": "[encoded data removed]"
          },
          "metadata": {}
        }
      ]
    },
    {
      "cell_type": "markdown",
      "source": [
        "#### 2. Build a PyTorch model by subclassing nn.Module.\n",
        "##### . Inside should be a randomly initialized nn.Parameter() with requires_grad=True, one for weights and one for bias.\n",
        "##### . Implement the forward() method to compute the linear regression function you used to create the dataset in 1.\n",
        "##### . Once you've constructed the model, make an instance of it and check its state_dict().\n",
        "##### . Note: If you'd like to use nn.Linear() instead of nn.Parameter() you can."
      ],
      "metadata": {
        "id": "6dB0j8xQNOLg"
      }
    },
    {
      "cell_type": "code",
      "source": [
        "# Create a Linear Regression model class\n",
        "class LinearRegressionModel(nn.Module):\n",
        "    def __init__(self):\n",
        "        super().__init__()\n",
        "        self.weights = nn.Parameter(torch.randn(1,\n",
        "                                                dtype=torch.float),\n",
        "                                   requires_grad=True)\n",
        "\n",
        "        self.bias = nn.Parameter(torch.randn(1,\n",
        "                                            dtype=torch.float),\n",
        "                                requires_grad=True)\n",
        "\n",
        "# Forward computation in the model\n",
        "    def forward(self, x: torch.Tensor) -> torch.Tensor:\n",
        "        return self.weights * x + self.bias"
      ],
      "metadata": {
        "id": "2iDffokUOaI8"
      },
      "execution_count": 29,
      "outputs": []
    },
    {
      "cell_type": "code",
      "source": [
        "# Set manual seed since nn.Parameter are randomly initialzied\n",
        "torch.manual_seed(42)\n",
        "\n",
        "# Create an instance of the model (this is a subclass of nn.Module that contains nn.Parameter(s))\n",
        "model_0 = LinearRegressionModel()\n",
        "\n",
        "# Check the nn.Parameter(s) within the nn.Module subclass we created\n",
        "list(model_0.parameters())"
      ],
      "metadata": {
        "colab": {
          "base_uri": "https://localhost:8080/"
        },
        "id": "x5gno4LAQnL1",
        "outputId": "92117c41-f309-484d-9e33-e1f0ea8df346"
      },
      "execution_count": 30,
      "outputs": [
        {
          "output_type": "execute_result",
          "data": {
            "text/plain": [
              "[Parameter containing:\n",
              " tensor([0.3367], requires_grad=True),\n",
              " Parameter containing:\n",
              " tensor([0.1288], requires_grad=True)]"
            ]
          },
          "metadata": {},
          "execution_count": 30
        }
      ]
    },
    {
      "cell_type": "code",
      "source": [
        "# List named parameters\n",
        "model_0.state_dict()"
      ],
      "metadata": {
        "colab": {
          "base_uri": "https://localhost:8080/"
        },
        "id": "S4uGh_HaQv7K",
        "outputId": "e4d7dad5-4514-498e-9282-29be03615819"
      },
      "execution_count": 31,
      "outputs": [
        {
          "output_type": "execute_result",
          "data": {
            "text/plain": [
              "OrderedDict([('weights', tensor([0.3367])), ('bias', tensor([0.1288]))])"
            ]
          },
          "metadata": {},
          "execution_count": 31
        }
      ]
    },
    {
      "cell_type": "code",
      "source": [
        "# Make predictions with model\n",
        "with torch.inference_mode():\n",
        "    y_preds = model_0(X_test)"
      ],
      "metadata": {
        "id": "v5kNT4JUQyAE"
      },
      "execution_count": 33,
      "outputs": []
    },
    {
      "cell_type": "code",
      "source": [
        "# Check the predictions\n",
        "print(f\"Number of testing samples: {len(X_test)}\")\n",
        "print(f\"Number of predictions made: {len(y_preds)}\")\n",
        "print(f\"Predicted values:\\n{y_preds}\")"
      ],
      "metadata": {
        "colab": {
          "base_uri": "https://localhost:8080/"
        },
        "id": "WZ76JOl-Q9lD",
        "outputId": "cbc8917b-7bf6-431e-bbaa-2223f63e441a"
      },
      "execution_count": 34,
      "outputs": [
        {
          "output_type": "stream",
          "name": "stdout",
          "text": [
            "Number of testing samples: 20\n",
            "Number of predictions made: 20\n",
            "Predicted values:\n",
            "tensor([[0.6675],\n",
            "        [0.6742],\n",
            "        [0.6810],\n",
            "        [0.6877],\n",
            "        [0.6944],\n",
            "        [0.7012],\n",
            "        [0.7079],\n",
            "        [0.7147],\n",
            "        [0.7214],\n",
            "        [0.7281],\n",
            "        [0.7349],\n",
            "        [0.7416],\n",
            "        [0.7483],\n",
            "        [0.7551],\n",
            "        [0.7618],\n",
            "        [0.7685],\n",
            "        [0.7753],\n",
            "        [0.7820],\n",
            "        [0.7887],\n",
            "        [0.7955]])\n"
          ]
        }
      ]
    },
    {
      "cell_type": "code",
      "source": [
        "plot_predictions(predictions=y_preds)"
      ],
      "metadata": {
        "colab": {
          "base_uri": "https://localhost:8080/",
          "height": 599
        },
        "id": "_MpEly7qRFhK",
        "outputId": "fa6fc2be-2aad-4a03-88c7-32dea7d8e6f6"
      },
      "execution_count": 35,
      "outputs": [
        {
          "output_type": "display_data",
          "data": {
            "text/plain": [
              "<Figure size 1000x700 with 1 Axes>"
            ],
            "image/png": "[encoded data removed]"
          },
          "metadata": {}
        }
      ]
    },
    {
      "cell_type": "code",
      "source": [
        "y_test - y_preds"
      ],
      "metadata": {
        "colab": {
          "base_uri": "https://localhost:8080/"
        },
        "id": "cq4OJkebRQZZ",
        "outputId": "0a01c199-9391-46ce-b7f6-891a8e9bb968"
      },
      "execution_count": 36,
      "outputs": [
        {
          "output_type": "execute_result",
          "data": {
            "text/plain": [
              "tensor([[0.7125],\n",
              "        [0.7118],\n",
              "        [0.7110],\n",
              "        [0.7103],\n",
              "        [0.7096],\n",
              "        [0.7088],\n",
              "        [0.7081],\n",
              "        [0.7073],\n",
              "        [0.7066],\n",
              "        [0.7059],\n",
              "        [0.7051],\n",
              "        [0.7044],\n",
              "        [0.7037],\n",
              "        [0.7029],\n",
              "        [0.7022],\n",
              "        [0.7015],\n",
              "        [0.7007],\n",
              "        [0.7000],\n",
              "        [0.6993],\n",
              "        [0.6985]])"
            ]
          },
          "metadata": {},
          "execution_count": 36
        }
      ]
    },
    {
      "cell_type": "markdown",
      "source": [
        "#### 3. Create a loss function and optimizer using nn.L1Loss() and torch.optim.SGD(params, lr) respectively.\n",
        "##### Set the learning rate of the optimizer to be 0.01 and the parameters to optimize should be the model parameters from the model you created in 2. Write a training loop to perform the appropriate training steps for 300 epochs. The training loop should test the model on the test dataset every 20 epochs."
      ],
      "metadata": {
        "id": "xNCsRrZISdjh"
      }
    },
    {
      "cell_type": "code",
      "source": [
        "# Create the loss function\n",
        "loss_fn = nn.L1Loss()\n",
        "\n",
        "# Create the optimizer\n",
        "optimizer = torch.optim.SGD(params=model_0.parameters(), # using model_1\n",
        "                            lr=0.01) #"
      ],
      "metadata": {
        "id": "E2ucbYG-SKpQ"
      },
      "execution_count": 38,
      "outputs": []
    },
    {
      "cell_type": "code",
      "source": [
        "torch.manual_seed(42)\n",
        "\n",
        "# Set the number of epochs (how many times the model will pass over the training data)\n",
        "epochs = 300\n",
        "\n",
        "# Create empty loss lists to track values\n",
        "train_loss_values = []\n",
        "test_loss_values = []\n",
        "epoch_count = []\n",
        "\n",
        "for epoch in range(epochs):\n",
        "    ### Training\n",
        "\n",
        "    # Put model in training mode (this is the default state of a model)\n",
        "    model_0.train()\n",
        "\n",
        "    # 1. Forward pass on train data using the forward() method inside\n",
        "    y_pred = model_0(X_train)\n",
        "    # print(y_pred)\n",
        "\n",
        "    # 2. Calculate the loss (how different are our models predictions to the ground truth)\n",
        "    loss = loss_fn(y_pred, y_train)\n",
        "\n",
        "    # 3. Zero grad of the optimizer\n",
        "    optimizer.zero_grad()\n",
        "\n",
        "    # 4. Loss backwards\n",
        "    loss.backward()\n",
        "\n",
        "    # 5. Progress the optimizer\n",
        "    optimizer.step()\n",
        "\n",
        "    ### Testing\n",
        "\n",
        "    # Put the model in evaluation mode\n",
        "    model_0.eval()\n",
        "\n",
        "    with torch.inference_mode():\n",
        "      # 1. Forward pass on test data\n",
        "      test_pred = model_0(X_test)\n",
        "\n",
        "      # 2. Caculate loss on test data\n",
        "      test_loss = loss_fn(test_pred, y_test.type(torch.float)) # predictions come in torch.float datatype, so comparisons need to be done with tensors of the same type\n",
        "\n",
        "      # Print out what's happening\n",
        "      if epoch % 20 == 0:\n",
        "            epoch_count.append(epoch)\n",
        "            train_loss_values.append(loss.detach().numpy())\n",
        "            test_loss_values.append(test_loss.detach().numpy())\n",
        "            print(f\"Epoch: {epoch} | MAE Train Loss: {loss} | MAE Test Loss: {test_loss} \")"
      ],
      "metadata": {
        "colab": {
          "base_uri": "https://localhost:8080/"
        },
        "id": "QPLT0f1kTbfx",
        "outputId": "81b1464a-caba-457f-8aac-79d1523cfee8"
      },
      "execution_count": 41,
      "outputs": [
        {
          "output_type": "stream",
          "name": "stdout",
          "text": [
            "Epoch: 0 | MAE Train Loss: 0.010932961478829384 | MAE Test Loss: 0.006088173482567072 \n",
            "Epoch: 20 | MAE Train Loss: 0.010932961478829384 | MAE Test Loss: 0.006088173482567072 \n",
            "Epoch: 40 | MAE Train Loss: 0.010932961478829384 | MAE Test Loss: 0.006088173482567072 \n",
            "Epoch: 60 | MAE Train Loss: 0.010932961478829384 | MAE Test Loss: 0.006088173482567072 \n",
            "Epoch: 80 | MAE Train Loss: 0.010932961478829384 | MAE Test Loss: 0.006088173482567072 \n",
            "Epoch: 100 | MAE Train Loss: 0.010932961478829384 | MAE Test Loss: 0.006088173482567072 \n",
            "Epoch: 120 | MAE Train Loss: 0.010932961478829384 | MAE Test Loss: 0.006088173482567072 \n",
            "Epoch: 140 | MAE Train Loss: 0.010932961478829384 | MAE Test Loss: 0.006088173482567072 \n",
            "Epoch: 160 | MAE Train Loss: 0.010932961478829384 | MAE Test Loss: 0.006088173482567072 \n",
            "Epoch: 180 | MAE Train Loss: 0.010932961478829384 | MAE Test Loss: 0.006088173482567072 \n",
            "Epoch: 200 | MAE Train Loss: 0.010932961478829384 | MAE Test Loss: 0.006088173482567072 \n",
            "Epoch: 220 | MAE Train Loss: 0.010932961478829384 | MAE Test Loss: 0.006088173482567072 \n",
            "Epoch: 240 | MAE Train Loss: 0.010932961478829384 | MAE Test Loss: 0.006088173482567072 \n",
            "Epoch: 260 | MAE Train Loss: 0.010932961478829384 | MAE Test Loss: 0.006088173482567072 \n",
            "Epoch: 280 | MAE Train Loss: 0.010932961478829384 | MAE Test Loss: 0.006088173482567072 \n"
          ]
        }
      ]
    },
    {
      "cell_type": "markdown",
      "source": [
        "#### 4. Make predictions with the trained model on the test data.\n",
        "#### . Visualize these predictions against the original training and testing data (note: you may need to make sure the predictions are not on the GPU if you want to use non-CUDA-enabled libraries such as matplotlib to plot)."
      ],
      "metadata": {
        "id": "u2afc34uUED7"
      }
    },
    {
      "cell_type": "code",
      "source": [
        "# 1. Set the model in evaluation mode\n",
        "model_0.eval()\n",
        "\n",
        "with torch.inference_mode():\n",
        "  y_preds = model_0(X_test)\n",
        "y_preds"
      ],
      "metadata": {
        "colab": {
          "base_uri": "https://localhost:8080/"
        },
        "id": "LhYXPVUYTe1r",
        "outputId": "f5894bc7-5374-4c2e-ad04-1cf80d4356e3"
      },
      "execution_count": 45,
      "outputs": [
        {
          "output_type": "execute_result",
          "data": {
            "text/plain": [
              "tensor([[1.3967],\n",
              "        [1.4028],\n",
              "        [1.4090],\n",
              "        [1.4151],\n",
              "        [1.4213],\n",
              "        [1.4274],\n",
              "        [1.4336],\n",
              "        [1.4397],\n",
              "        [1.4458],\n",
              "        [1.4520],\n",
              "        [1.4581],\n",
              "        [1.4643],\n",
              "        [1.4704],\n",
              "        [1.4766],\n",
              "        [1.4827],\n",
              "        [1.4888],\n",
              "        [1.4950],\n",
              "        [1.5011],\n",
              "        [1.5073],\n",
              "        [1.5134]])"
            ]
          },
          "metadata": {},
          "execution_count": 45
        }
      ]
    },
    {
      "cell_type": "code",
      "source": [
        "plot_predictions(predictions=y_preds)"
      ],
      "metadata": {
        "colab": {
          "base_uri": "https://localhost:8080/",
          "height": 599
        },
        "id": "pFEm9HOwUZF8",
        "outputId": "a92dfc5a-7a0f-4537-fdcd-bce7e1411f5d"
      },
      "execution_count": 47,
      "outputs": [
        {
          "output_type": "display_data",
          "data": {
            "text/plain": [
              "<Figure size 1000x700 with 1 Axes>"
            ],
            "image/png": "[encoded data removed]"
          },
          "metadata": {}
        }
      ]
    },
    {
      "cell_type": "markdown",
      "source": [],
      "metadata": {
        "id": "eZhjYngCU1bD"
      }
    },
    {
      "cell_type": "markdown",
      "source": [
        "#### 5. Save your trained model's state_dict() to file.\n",
        "##### . Create a new instance of your model class you made in 2. and load in the state_dict() you just saved to it.\n",
        "##### . Perform predictions on your test data with the loaded model and confirm they match the original model predictions from 4."
      ],
      "metadata": {
        "id": "H5KJOdOxVRw0"
      }
    },
    {
      "cell_type": "code",
      "source": [
        "from pathlib import Path\n",
        "\n",
        "# 1. Create models directory\n",
        "MODEL_PATH = Path(\"models\")\n",
        "MODEL_PATH.mkdir(parents=True, exist_ok=True)\n",
        "\n",
        "# 2. Create model save path\n",
        "MODEL_NAME = \"01_pytorch_workflow\"\n",
        "MODEL_SAVE_PATH = MODEL_PATH / MODEL_NAME\n",
        "\n",
        "# 3. Save the model state dict\n",
        "print(f\"Saving model to: {MODEL_SAVE_PATH}\")\n",
        "torch.save(obj=model_0.state_dict(), # only saving the state_dict() only saves the models learned parameters\n",
        "           f=MODEL_SAVE_PATH)"
      ],
      "metadata": {
        "colab": {
          "base_uri": "https://localhost:8080/"
        },
        "id": "7r_zC3PLVgeU",
        "outputId": "f8e2a2c6-7b6b-4cf2-9531-5479c511cc88"
      },
      "execution_count": 49,
      "outputs": [
        {
          "output_type": "stream",
          "name": "stdout",
          "text": [
            "Saving model to: models/01_pytorch_workflow\n"
          ]
        }
      ]
    },
    {
      "cell_type": "code",
      "source": [
        "# Instantiate a new instance of our model (this will be instantiated with random weights)\n",
        "loaded_model_0 = LinearRegressionModel()\n",
        "\n",
        "# Load the state_dict of our saved model\n",
        "loaded_model_0.load_state_dict(torch.load(f=MODEL_SAVE_PATH))\n"
      ],
      "metadata": {
        "colab": {
          "base_uri": "https://localhost:8080/"
        },
        "id": "gU7vI2ZyV8it",
        "outputId": "dbdc6c8c-dc86-4941-f6e6-84878794fc45"
      },
      "execution_count": 50,
      "outputs": [
        {
          "output_type": "execute_result",
          "data": {
            "text/plain": [
              "<All keys matched successfully>"
            ]
          },
          "metadata": {},
          "execution_count": 50
        }
      ]
    },
    {
      "cell_type": "code",
      "source": [
        "# 1. Put the loaded model into evaluation mode\n",
        "loaded_model_0.eval()\n",
        "\n",
        "# 2. Use the inference mode context manager to make predictions\n",
        "with torch.inference_mode():\n",
        "    loaded_model_preds = loaded_model_0(X_test)"
      ],
      "metadata": {
        "id": "Vb56q9kAXtaa"
      },
      "execution_count": 52,
      "outputs": []
    },
    {
      "cell_type": "code",
      "source": [
        "y_preds == loaded_model_preds"
      ],
      "metadata": {
        "colab": {
          "base_uri": "https://localhost:8080/"
        },
        "id": "Slg3VM7RX2T-",
        "outputId": "c391892e-6de4-4220-fdff-c5eb6de8ccaa"
      },
      "execution_count": 53,
      "outputs": [
        {
          "output_type": "execute_result",
          "data": {
            "text/plain": [
              "tensor([[True],\n",
              "        [True],\n",
              "        [True],\n",
              "        [True],\n",
              "        [True],\n",
              "        [True],\n",
              "        [True],\n",
              "        [True],\n",
              "        [True],\n",
              "        [True],\n",
              "        [True],\n",
              "        [True],\n",
              "        [True],\n",
              "        [True],\n",
              "        [True],\n",
              "        [True],\n",
              "        [True],\n",
              "        [True],\n",
              "        [True],\n",
              "        [True]])"
            ]
          },
          "metadata": {},
          "execution_count": 53
        }
      ]
    },
    {
      "cell_type": "markdown",
      "metadata": {
        "id": "33fJCUBeFmvY"
      },
      "source": [
        "### Additional Exercise\n",
        "[Click to view PDF 📄](ArewaDS_Deep_Learning_Advanced_Assignment_Week2.pdf)"
      ]
    },
    {
      "cell_type": "code",
      "execution_count": null,
      "metadata": {
        "vscode": {
          "languageId": "plaintext"
        },
        "id": "rCcIyHbqFmvg"
      },
      "outputs": [],
      "source": []
    },
    {
      "cell_type": "markdown",
      "metadata": {
        "id": "-O9iKoNTFmvh"
      },
      "source": [
        "SUBMIT ASSIGNMENT HERE: [CLICK ME ▶️](https://forms.gle/876vi4aNoFf4A2mU7)"
      ]
    }
  ],
  "metadata": {
    "language_info": {
      "name": "python"
    },
    "colab": {
      "provenance": [],
      "gpuType": "T4",
      "include_colab_link": true
    },
    "kernelspec": {
      "name": "python3",
      "display_name": "Python 3"
    },
    "accelerator": "GPU"
  },
  "nbformat": 4,
  "nbformat_minor": 0
}