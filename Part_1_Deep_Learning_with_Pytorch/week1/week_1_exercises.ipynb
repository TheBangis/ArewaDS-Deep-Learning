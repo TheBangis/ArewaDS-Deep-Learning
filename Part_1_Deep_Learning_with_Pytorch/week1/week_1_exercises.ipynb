{
  "cells": [
    {
      "cell_type": "markdown",
      "metadata": {
        "id": "view-in-github",
        "colab_type": "text"
      },
      "source": [
        "<a href=\"https://colab.research.google.com/github/TheBangis/ArewaDS-Deep-Learning/blob/main/Part_1_Deep_Learning_with_Pytorch/week1/week_1_exercises.ipynb\" target=\"_parent\"><img src=\"https://colab.research.google.com/assets/colab-badge.svg\" alt=\"Open In Colab\"/></a>"
      ]
    },
    {
      "cell_type": "markdown",
      "metadata": {
        "id": "JSdxAP1R14AG"
      },
      "source": [
        "<a href=\"https://colab.research.google.com/github/arewadataScience/ArewaDS-Deep-Learning/blob/main/Part_1_Deep_Learning_with_Pytorch/week1/week_1_exercises.ipynb\" target=\"_parent\"><img src=\"https://colab.research.google.com/assets/colab-badge.svg\" alt=\"Open In Colab\"/></a>"
      ]
    },
    {
      "cell_type": "markdown",
      "metadata": {
        "id": "FnWssRUr14AQ"
      },
      "source": [
        "## Arewa DataScience Academy\n",
        "### Deep Learning Cohort 1.0\n",
        "### Name: Babangida Sani\n",
        "### Email: bsani480@gmail.com\n",
        "\n",
        "### WEEK 1 Exercises"
      ]
    },
    {
      "cell_type": "markdown",
      "metadata": {
        "id": "bdI9Kr3m14AU"
      },
      "source": [
        "### Exercises:\n",
        "Please, see week 1 exercises from [**Learn PyTorch for Deep Learning**: 00. Pytorch Fundamentals](https://www.learnpytorch.io/00_pytorch_fundamentals/#exercises)"
      ]
    },
    {
      "cell_type": "code",
      "source": [
        "import torch\n",
        "\n",
        "torch.__version__"
      ],
      "metadata": {
        "colab": {
          "base_uri": "https://localhost:8080/",
          "height": 35
        },
        "id": "tg-xNDH4TlEA",
        "outputId": "003edb87-3de0-4e91-91ef-cd4108f6f9b9"
      },
      "execution_count": 1,
      "outputs": [
        {
          "output_type": "execute_result",
          "data": {
            "text/plain": [
              "'2.1.0+cu121'"
            ],
            "application/vnd.google.colaboratory.intrinsic+json": {
              "type": "string"
            }
          },
          "metadata": {},
          "execution_count": 1
        }
      ]
    },
    {
      "cell_type": "markdown",
      "source": [
        "#### 1. Documentation reading - A big part of deep learning (and learning to code in general) is getting familiar with the documentation of a certain framework you're using. We'll be using the PyTorch documentation a lot throughout the rest of this course. So I'd recommend spending 10-minutes reading the following (it's okay if you don't get some things for now, the focus is not yet full understanding, it's awareness). See the documentation on torch.Tensor and for torch.cuda.\n",
        "\n",
        "#### Read"
      ],
      "metadata": {
        "id": "ae2UwemSTxIH"
      }
    },
    {
      "cell_type": "markdown",
      "source": [
        "#### 2. Create a random tensor with shape (7, 7)."
      ],
      "metadata": {
        "id": "lxHunFNkUSF8"
      }
    },
    {
      "cell_type": "code",
      "source": [
        "tensor = torch.rand(size=(7,7))\n",
        "\n",
        "tensor, tensor.shape"
      ],
      "metadata": {
        "colab": {
          "base_uri": "https://localhost:8080/"
        },
        "id": "koCFf1zjUaxK",
        "outputId": "d4ad2a67-384b-4b96-c112-cf5784fe53bd"
      },
      "execution_count": 2,
      "outputs": [
        {
          "output_type": "execute_result",
          "data": {
            "text/plain": [
              "(tensor([[0.5118, 0.9355, 0.5311, 0.0962, 0.4571, 0.2300, 0.4907],\n",
              "         [0.4370, 0.4441, 0.3497, 0.5022, 0.9926, 0.8234, 0.0788],\n",
              "         [0.8420, 0.3890, 0.6711, 0.4683, 0.9719, 0.6504, 0.4154],\n",
              "         [0.3546, 0.0035, 0.5284, 0.0752, 0.9796, 0.3174, 0.9441],\n",
              "         [0.0453, 0.1459, 0.3432, 0.8309, 0.5940, 0.0410, 0.8356],\n",
              "         [0.2436, 0.8844, 0.7758, 0.3069, 0.8545, 0.0220, 0.0116],\n",
              "         [0.4807, 0.3857, 0.4536, 0.7290, 0.3088, 0.7374, 0.1661]]),\n",
              " torch.Size([7, 7]))"
            ]
          },
          "metadata": {},
          "execution_count": 2
        }
      ]
    },
    {
      "cell_type": "markdown",
      "source": [
        "#### 3. Perform a matrix multiplication on the tensor from 2 with another random tensor with shape (1, 7) (hint: you may have to transpose the second tensor)."
      ],
      "metadata": {
        "id": "mH1gWeEcVFYC"
      }
    },
    {
      "cell_type": "code",
      "source": [
        "# create second tensor\n",
        "second_tensor = torch.rand(size=(1,7))\n",
        "\n",
        "# multiply first and second tensors\n",
        "torch.matmul(tensor, second_tensor.T)"
      ],
      "metadata": {
        "colab": {
          "base_uri": "https://localhost:8080/"
        },
        "id": "dM6PhbHoVHt1",
        "outputId": "974fad57-ab41-46fb-af10-1892dd3bc6a5"
      },
      "execution_count": 7,
      "outputs": [
        {
          "output_type": "execute_result",
          "data": {
            "text/plain": [
              "tensor([[1.0402],\n",
              "        [2.4243],\n",
              "        [1.4873],\n",
              "        [1.7278],\n",
              "        [1.4524],\n",
              "        [1.2654],\n",
              "        [1.1222]])"
            ]
          },
          "metadata": {},
          "execution_count": 7
        }
      ]
    },
    {
      "cell_type": "markdown",
      "source": [
        "#### 4. Set the random seed to 0 and do exercises 2 & 3 over again."
      ],
      "metadata": {
        "id": "jKwU7j5qV0ku"
      }
    },
    {
      "cell_type": "code",
      "source": [
        "RANDOM_SEED = 0\n",
        "torch.manual_seed(RANDOM_SEED)\n",
        "\n",
        "# use the tensors created in 2 and 3\n",
        "\n",
        "# Matrix multiply tensors\n",
        "a = torch.matmul(tensor, second_tensor.T)\n",
        "a, a.shape"
      ],
      "metadata": {
        "colab": {
          "base_uri": "https://localhost:8080/"
        },
        "id": "7JPrm0-MV0W5",
        "outputId": "0d778a68-3946-4620-9759-5d6c79d28e67"
      },
      "execution_count": 11,
      "outputs": [
        {
          "output_type": "execute_result",
          "data": {
            "text/plain": [
              "(tensor([[1.0402],\n",
              "         [2.4243],\n",
              "         [1.4873],\n",
              "         [1.7278],\n",
              "         [1.4524],\n",
              "         [1.2654],\n",
              "         [1.1222]]),\n",
              " torch.Size([7, 1]))"
            ]
          },
          "metadata": {},
          "execution_count": 11
        }
      ]
    },
    {
      "cell_type": "markdown",
      "source": [
        "##### 5. Speaking of random seeds, we saw how to set it with torch.manual_seed() but is there a GPU equivalent? (hint: you'll need to look into the documentation for torch.cuda for this one)"
      ],
      "metadata": {
        "id": "oEpUa0-ZXtAM"
      }
    },
    {
      "cell_type": "code",
      "source": [
        "torch.cuda.manual_seed(1234)"
      ],
      "metadata": {
        "id": "ZTgimzTkX0Pq"
      },
      "execution_count": 14,
      "outputs": []
    },
    {
      "cell_type": "markdown",
      "source": [
        "#### 6. Create two random tensors of shape (2, 3) and send them both to the GPU (you'll need access to a GPU for this). Set torch.manual_seed(1234) when creating the tensors (this doesn't have to be the GPU random seed). The output should be something like:"
      ],
      "metadata": {
        "id": "JCvhf_j9alNl"
      }
    },
    {
      "cell_type": "code",
      "source": [
        "torch.cuda.manual_seed(1234)\n",
        "\n",
        "device = \"cuda\" if torch.cuda.is_available() else \"cpu\"\n",
        "print(f\"Device: {device}\")\n",
        "\n",
        "tensor_A = torch.rand(size=(2,3)).to(device)\n",
        "tensor_B = torch.rand(size=(2,3)).to(device)\n",
        "tensor_A, tensor_B"
      ],
      "metadata": {
        "colab": {
          "base_uri": "https://localhost:8080/"
        },
        "id": "zroKue-wau0t",
        "outputId": "be798082-30e8-4eca-c740-7451b12ed8e8"
      },
      "execution_count": 18,
      "outputs": [
        {
          "output_type": "stream",
          "name": "stdout",
          "text": [
            "Device: cpu\n"
          ]
        },
        {
          "output_type": "execute_result",
          "data": {
            "text/plain": [
              "(tensor([[0.1610, 0.2823, 0.6816],\n",
              "         [0.9152, 0.3971, 0.8742]]),\n",
              " tensor([[0.4194, 0.5529, 0.9527],\n",
              "         [0.0362, 0.1852, 0.3734]]))"
            ]
          },
          "metadata": {},
          "execution_count": 18
        }
      ]
    },
    {
      "cell_type": "markdown",
      "source": [
        "#### 7. Perform a matrix multiplication on the tensors you created in 6 (again, you may have to adjust the shapes of one of the tensors)."
      ],
      "metadata": {
        "id": "zAVyBoVact8_"
      }
    },
    {
      "cell_type": "code",
      "source": [
        "x = torch.matmul(tensor_A, tensor_B.T)\n",
        "x, x.shape"
      ],
      "metadata": {
        "colab": {
          "base_uri": "https://localhost:8080/"
        },
        "id": "K2Fz44n8dBsj",
        "outputId": "a15e6a98-3d62-4a58-de43-a5577ba12324"
      },
      "execution_count": 19,
      "outputs": [
        {
          "output_type": "execute_result",
          "data": {
            "text/plain": [
              "(tensor([[0.8730, 0.3126],\n",
              "         [1.4362, 0.4331]]),\n",
              " torch.Size([2, 2]))"
            ]
          },
          "metadata": {},
          "execution_count": 19
        }
      ]
    },
    {
      "cell_type": "markdown",
      "source": [
        " #### 8. Find the maximum and minimum values of the output of 7."
      ],
      "metadata": {
        "id": "ajRb4-jHdqbT"
      }
    },
    {
      "cell_type": "code",
      "source": [
        "max = torch.max(x)\n",
        "min = torch.min(x)\n",
        "\n",
        "max, min"
      ],
      "metadata": {
        "colab": {
          "base_uri": "https://localhost:8080/"
        },
        "id": "AyCit1zMeDPD",
        "outputId": "2d82a2d5-f96b-498c-deb4-56fd5ebb414c"
      },
      "execution_count": 20,
      "outputs": [
        {
          "output_type": "execute_result",
          "data": {
            "text/plain": [
              "(tensor(1.4362), tensor(0.3126))"
            ]
          },
          "metadata": {},
          "execution_count": 20
        }
      ]
    },
    {
      "cell_type": "markdown",
      "source": [
        "####  9. Find the maximum and minimum index values of the output of 7."
      ],
      "metadata": {
        "id": "sfoJcNipeSTX"
      }
    },
    {
      "cell_type": "code",
      "source": [
        "arg_max = torch.argmax(x)\n",
        "arg_min = torch.argmin(x)\n",
        "\n",
        "arg_max, arg_min"
      ],
      "metadata": {
        "colab": {
          "base_uri": "https://localhost:8080/"
        },
        "id": "seA7iv8Reaxh",
        "outputId": "4d4e1269-2aec-4790-f180-49c1c69ca68e"
      },
      "execution_count": 21,
      "outputs": [
        {
          "output_type": "execute_result",
          "data": {
            "text/plain": [
              "(tensor(2), tensor(1))"
            ]
          },
          "metadata": {},
          "execution_count": 21
        }
      ]
    },
    {
      "cell_type": "markdown",
      "source": [
        "#### 10.  Make a random tensor with shape (1, 1, 1, 10) and then create a new tensor with all the 1 dimensions removed to be left with a tensor of shape (10). Set the seed to 7 when you create it and print out the first tensor and it's shape as well as the second tensor and it's shape."
      ],
      "metadata": {
        "id": "GITbMS1AenaT"
      }
    },
    {
      "cell_type": "code",
      "source": [
        "RANDOM_SEED = 7\n",
        "torch.manual_seed(RANDOM_SEED)\n",
        "\n",
        "\n",
        "tensor_1 = torch.rand(size=(1, 1, 1, 10))\n",
        "\n",
        "# Remove single dimensions\n",
        "tensor_2 = tensor_1.squeeze()\n",
        "\n",
        "print(tensor_1, tensor_1.shape)\n",
        "print(tensor_2, tensor_2.shape)"
      ],
      "metadata": {
        "colab": {
          "base_uri": "https://localhost:8080/"
        },
        "id": "N0gS-pc6ewBV",
        "outputId": "c5643d85-4efb-4a51-ec6e-2674f63adaf4"
      },
      "execution_count": 22,
      "outputs": [
        {
          "output_type": "stream",
          "name": "stdout",
          "text": [
            "tensor([[[[0.5349, 0.1988, 0.6592, 0.6569, 0.2328, 0.4251, 0.2071, 0.6297,\n",
            "           0.3653, 0.8513]]]]) torch.Size([1, 1, 1, 10])\n",
            "tensor([0.5349, 0.1988, 0.6592, 0.6569, 0.2328, 0.4251, 0.2071, 0.6297, 0.3653,\n",
            "        0.8513]) torch.Size([10])\n"
          ]
        }
      ]
    },
    {
      "cell_type": "markdown",
      "metadata": {
        "id": "bPIIS_RM14AV"
      },
      "source": [
        "### Additional Exercise"
      ]
    }
  ],
  "metadata": {
    "language_info": {
      "name": "python"
    },
    "colab": {
      "provenance": [],
      "include_colab_link": true
    },
    "kernelspec": {
      "name": "python3",
      "display_name": "Python 3"
    }
  },
  "nbformat": 4,
  "nbformat_minor": 0
}